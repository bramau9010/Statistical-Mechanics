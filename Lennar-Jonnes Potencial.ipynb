{
 "cells": [
  {
   "cell_type": "markdown",
   "metadata": {},
   "source": [
    "Taken from:https://towardsdatascience.com/the-lennard-jones-potential-35b2bae9446c"
   ]
  },

{
 "cells": [
  {
   "cell_type": "markdown",
   "metadata": {},
   "source": [
    "parameters"
   ]
  },
  {
   "cell_type": "code",
   "execution_count": 130,
   "metadata": {},
   "outputs": [
    {
     "data": {
      "image/png": "[encoded data removed]",
      "text/plain": [
       "<Figure size 432x288 with 1 Axes>"
      ]
     },
     "metadata": {
      "needs_background": "light"
     },
     "output_type": "display_data"
    }
   ],
   "source": [
    "%matplotlib inline\n",
    "import numpy as np\n",
    "import matplotlib.pyplot as plt\n",
    "\n",
    "def ljp(r, epsilon, sigma):\n",
    "    \n",
    "    return 48 * epsilon * np.power(sigma, 12) / np.power(r, 13) \\\n",
    "    - 24 * epsilon * np.power(sigma, 6) / np.power(r, 7)\n",
    "    \n",
    "r = np.linspace(3.5, 8, 100)\n",
    "plt.plot(r, ljp(r, 0.0103, 3.3))\n",
    "plt.xlabel('distance')\n",
    "plt.ylabel('energy')\n",
    "plt.show()"
   ]
  },
  {
   "cell_type": "markdown",
   "metadata": {},
   "source": [
    "Parameters"
   ]
  },
  {
   "cell_type": "code",
   "execution_count": 131,
   "metadata": {},
   "outputs": [],
   "source": [
    "deltaT = 0.005\n",
    "density =0.8\n",
    "initUcell_x = 20\n",
    "initUcell_y = 20\n",
    "stepAvg = 100\n",
    "stepEquil = 0\n",
    "stepLimit = 500\n",
    "temperature = 3."
   ]
  },
  {
   "cell_type": "markdown",
   "metadata": {},
   "source": [
    "packages"
   ]
  },
  {
   "cell_type": "code",
   "execution_count": 132,
   "metadata": {},
   "outputs": [],
   "source": [
    "import pandas as pd\n",
    "import math\n",
    "import os\n",
    "import matplotlib.pyplot as plt\n",
    "plt.style.use('seaborn-whitegrid')\n",
    "import numpy as np\n",
    "from PIL import Image\n",
    "import glob\n",
    "import moviepy.editor as mp\n",
    "from datetime import datetime\n",
    "import time"
   ]
  },
  {
   "cell_type": "markdown",
   "metadata": {},
   "source": [
    "I have introduced one Python class for the molecule definition (class Mol) and one for the properties (class Prop), which were represented by two C language structs, in the original Rapaport version:\n"
   ]
  },
  {
   "cell_type": "code",
   "execution_count": 133,
   "metadata": {},
   "outputs": [],
   "source": [
    "class Mol():\n",
    "    def __init__(self, r, rv, ra):\n",
    "        self.r = np.asarray([0.0, 0.0]) \n",
    "        self.rv = np.asarray([0.0, 0.0])\n",
    "        self.ra = np.asarray([0.0, 0.0])\n",
    "        \n",
    "        \n",
    "class Prop():\n",
    "    def __init__(self, val, sum1, sum2 ):\n",
    "        self.val=val\n",
    "        self.sum1=sum1\n",
    "        self.sum2=sum2       "
   ]
  },
  {
   "cell_type": "markdown",
   "metadata": {},
   "source": [
    "I have replaced all the functions for the vector operations with linear algebra functions from NumPy. Also, I have re-write all the necessary functions for the randomness and for updating the coordinates in periodic boundaries."
   ]
  },
  {
   "cell_type": "code",
   "execution_count": 134,
   "metadata": {},
   "outputs": [],
   "source": [
    "# BASIC FUNCTIONS\n",
    "\n",
    "# Sqr and Cube functions:\n",
    "\n",
    "def Sqr(x):\n",
    "    return (x * x) \n",
    "\n",
    "def Cube(x):\n",
    "    return ((x) * (x) * (x))\n",
    "\n",
    "  \n",
    "# Randomness functions: \n",
    "\n",
    "def RandR():\n",
    "    global randSeedP\n",
    "    randSeedP = (randSeedP * IMUL + IADD) & MASK\n",
    "    return (randSeedP * SCALE)\n",
    "\n",
    "def VRand(p):\n",
    "    s: float\n",
    "    s = 2. * math.pi * RandR()\n",
    "    p[0] = math.cos(s)\n",
    "    p[1] = math.sin(s)\n",
    "    return p\n",
    "\n",
    "\n",
    "# Toroidal functions:\n",
    "def VWrapAll(v):\n",
    "    if v[0] >= 0.5 * region[0]:\n",
    "        v[0] -= region[0]\n",
    "    elif v[0] < -0.5 * region[0]:\n",
    "        v[0] += region[0]\n",
    "        \n",
    "    if v[1] >= 0.5 * region[1]:\n",
    "        v[1] -= region[1]\n",
    "    elif v[1] < -0.5 * region[1]:\n",
    "        v[1] += region[1]        \n",
    "        \n",
    "    \n",
    "# This function updates coordinates taking care of periodic boundaries    \n",
    "def ApplyBoundaryCond():\n",
    "    for n in range(nMol):\n",
    "        VWrapAll(mol[n].r)"
   ]
  },
  {
   "cell_type": "markdown",
   "metadata": {},
   "source": [
    "The initialization function for coordinates, velocities, and accelerations are included in the following code\n"
   ]
  },
  {
   "cell_type": "code",
   "execution_count": 135,
   "metadata": {},
   "outputs": [],
   "source": [
    "# INITIALIZE COORDINATES.\n",
    "# Here a simple square lattice (with the option of unequal edge lenghts) is used,\n",
    "# so that each cell contains just one atom and the system is centered about the origin\n",
    "def InitCoords():\n",
    "\n",
    "    c = np.asarray([0.0, 0.0]) # Coords\n",
    "    gap = np.divide(region, initUcell)\n",
    "    n = 0\n",
    "    for ny in range(0, int(initUcell[1])):\n",
    "        for nx in range(0, int(initUcell[0])):\n",
    "            \n",
    "            #c = np.asarray([nx+0.5, ny+0.5])\n",
    "            #c = np.multiply(c, gap)\n",
    "            #c = np.add(c, np.multiply(-0.5, region))\n",
    "            #mol[n].r = c   \n",
    "            \n",
    "            mol[n].r = np.add(np.multiply(np.asarray([nx+0.5, ny+0.5]), gap), np.multiply(-0.5, region)) \n",
    "            n = n+1\n",
    "            \n",
    "            \n",
    "# INITIALIZE VELOCITIES.\n",
    "# The initial velocities are set to fixed magnitude (velMag)\n",
    "# that depends on the temperature. After assigning random velocity directions\n",
    "# the velocoties are adjusted to ensure that the center of mass is stationary.\n",
    "# The function vRand serves as a source of uniformly distribuited radnom unit vectors.\n",
    "def InitVels():\n",
    "    \n",
    "    global vSum\n",
    "    vSum = np.zeros(vSum.shape)    \n",
    "    \n",
    "    for n in range(nMol):\n",
    "        VRand(mol[n].rv)\n",
    "        mol[n].rv = np.multiply(mol[n].rv, velMag)                \n",
    "        vSum = np.add(vSum, mol[n].rv)\n",
    "\n",
    "\n",
    "    for n in range(nMol):\n",
    "        mol[n].rv = np.add(mol[n].rv, np.multiply((- 1.0 / nMol),  vSum))\n",
    "        \n",
    "        \n",
    "# INITIALIZE ACCELERATIONS.\n",
    "# The accelerations are initilized to zero\n",
    "def InitAccels():\n",
    "    for n in range(nMol):\n",
    "        mol[n].ra = np.zeros(mol[n].ra.shape)\n"
   ]
  },
  {
   "cell_type": "markdown",
   "metadata": {},
   "source": [
    "The two functions SetParams and SetupJob are presented "
   ]
  },
  {
   "cell_type": "code",
   "execution_count": 136,
   "metadata": {},
   "outputs": [],
   "source": [
    "# Set parameters\n",
    "def SetParams():\n",
    "\n",
    "    global rCut\n",
    "    global region\n",
    "    global velMag # velocity magnitude\n",
    "    \n",
    "    rCut = math.pow(2., 1./6. * sigma)\n",
    "    # Define the region\n",
    "    region = np.multiply( 1./math.sqrt(density), initUcell)    \n",
    "    nMol = len(mol) \n",
    "    #velocity magnitude depends on the temperature\n",
    "    velMag = math.sqrt(NDIM * (1. -1. /nMol) * temperature)\n",
    "\n",
    "        \n",
    "# Setup Job\n",
    "def SetupJob():\n",
    "    \n",
    "    global stepCount #  timestep counter \n",
    "\n",
    "    stepCount = 0 \n",
    "    InitCoords()\n",
    "    InitVels()\n",
    "    InitAccels()\n",
    "    AccumProps(0)"
   ]
  },
  {
   "cell_type": "markdown",
   "metadata": {},
   "source": [
    "As mentioned before, a vital modification concerns the ComputeForces function, which implements the LJP: here, I have introduced the attractive tail represented by the van der Waals forces, that was removed in pr_02_1. (Code 8)\n"
   ]
  },
  {
   "cell_type": "code",
   "execution_count": 137,
   "metadata": {},
   "outputs": [],
   "source": [
    "# FORCES COMPUTATION\n",
    "'''\n",
    "ComputeForces\n",
    "ComputeForces is responsible for the interaction computations, and the interactions occur between pairs of atoms. \n",
    "The function implements the LJP, and calculates the accelerations and the forces for each pairs of atoms i and j \n",
    "located at ri and rj.\n",
    "rCut = Limiting separation cutoff (rc), and it is: rCut = math.pow(2., 1./6.)\n",
    "As r increases towards rCut, the force drops to 0.\n",
    "Newton's third law inplies that fji = -fij, so each atom pair need only be examined once.\n",
    "The amount of work is proportional to N^2.\n",
    "'''\n",
    "\n",
    "def ComputeForces():\n",
    "    \n",
    "    global virSum\n",
    "    global uSum \n",
    "    fcVal = 0 #  The force that atom j exerts on atom i\n",
    " \n",
    "    # rCut: Rc\n",
    "    rrCut = Sqr(rCut)\n",
    "    for n in range(nMol):\n",
    "        mol[n].ra = np.zeros(mol[n].ra.shape)\n",
    "    uSum = 0.\n",
    "    virSum = 0.\n",
    "\n",
    "    n = 0\n",
    "    for j1 in range(nMol-1):\n",
    "        for j2 in range(j1+1, nMol):\n",
    "            \n",
    "            # Make DeltaRij: (sum of squared RJ1-RJ2)\n",
    "            dr = np.subtract(mol[j1].r, mol[j2].r) # dr contains the delta between Rj1 and Rj2\n",
    "            VWrapAll(dr) # toroidal function\n",
    "            rr= (dr[0] * dr[0] + dr[1] * dr[1]) # dr2\n",
    "            r= np.sqrt(rr) #dr\n",
    "            \n",
    "            # if dr2 < Rc^2 \n",
    "            if (rr < rrCut):\n",
    "                rri = sigma / rr                \n",
    "                rri3 = Cube(rri)\n",
    "                \n",
    "                # Forces calculation by Lennard-Jones potential (original from Rapaport)\n",
    "                # fcVal = 48. * rri3 * (rri3 - 0.5) * rri\n",
    "                # Forces calculated with the completed Lennard-Jones.\n",
    "                fcVal = 48 * epsilon * np.power(sigma, 12) / np.power(r, 13) - 24 * epsilon * np.power(sigma, 6) / np.power(r, 7) \n",
    "\n",
    "                # Update the accelerations multiplying force for DeltaRij\n",
    "                mol[j1].ra = np.add(mol[j1].ra, np.multiply(fcVal, dr))\n",
    "                mol[j2].ra = np.add(mol[j2].ra, np.multiply(-fcVal, dr))\n",
    "                \n",
    "                # Lennard-Jones potential (original from Rapaport)\n",
    "                # uSum += 4. * rri3 * (rri3 - 1.) +1. \n",
    "                # The completed Lennard-Jones.\n",
    "                uSum += 4 * epsilon * np.power(sigma/r, 12)/r - np.power(sigma/r, 6) # balanced              \n",
    "\n",
    "\n",
    "\n",
    "                virSum += fcVal * rr\n"
   ]
  },
  {
   "cell_type": "markdown",
   "metadata": {},
   "source": [
    "Code 9 includes the leapfrog method for the Integration of the Equation of Motion."
   ]
  },
  {
   "cell_type": "code",
   "execution_count": 138,
   "metadata": {},
   "outputs": [],
   "source": [
    "# INTEGRATION\n",
    "'''\n",
    "INTEGRATION OF COORDINATES AND VELOCITIES.\n",
    "Integration of Equation of Motion uses a simple numerical techniques: the leapfrog method.\n",
    "The method has excellent energy conservation properties.\n",
    "LeapfrogStep integrates the coordinates and velocities. It appears twice in the listing of\n",
    "SingleStep, with the argument part determinating which portion of the two-step leapfrog process\n",
    "is to be performed:\n",
    "vix(t + h/2) = vix(t) + (h/2)aix(t)\n",
    "rix(t + h) = rix(t) + hvix (t + h/2)\n",
    "'''\n",
    "def LeapfrogStep(part):\n",
    "    \n",
    "    if part == 1:\n",
    "        for n in range(nMol):\n",
    "            mol[n].rv = np.add(mol[n].rv, np.multiply(0.5 * deltaT, mol[n].ra))            \n",
    "            mol[n].r = np.add(mol[n].r, np.multiply(deltaT, mol[n].rv))                        \n",
    "            \n",
    "    else :\n",
    "        \n",
    "        for n in range(nMol):\n",
    "            mol[n].rv = np.add(mol[n].rv, np.multiply(0.5 * deltaT, mol[n].ra))                        \n"
   ]
  },
  {
   "cell_type": "markdown",
   "metadata": {},
   "source": [
    "Code 10 provides all the functions for the properties measurements (Temperature, Energy, and Pressure)."
   ]
  },
  {
   "cell_type": "code",
   "execution_count": 139,
   "metadata": {},
   "outputs": [],
   "source": [
    "# PROPERTIES MEASUREMENTS\n",
    "\n",
    "def EvalProps():\n",
    "    \n",
    "    global vSum\n",
    "    vvSum = 0.\n",
    "    vSum = np.zeros(vSum.shape)\n",
    "    \n",
    "    global kinEnergy\n",
    "    global totEnergy\n",
    "    global pressure\n",
    "    \n",
    "    \n",
    "    for n in range(nMol):\n",
    "        vSum=np.add(vSum, mol[n].rv)\n",
    "        vv= (mol[n].rv[0] * mol[n].rv[0] + mol[n].rv[1] * mol[n].rv[1])\n",
    "        vvSum += vv\n",
    "        \n",
    "    kinEnergy.val = (0.5 * vvSum) / nMol\n",
    "    totEnergy.val = kinEnergy.val + (uSum / nMol)\n",
    "    pressure.val = density * (vvSum + virSum) / (nMol * NDIM)\n",
    "    \n",
    "    \n",
    "    \n",
    "# AccumProps functions\n",
    "\n",
    "def PropZero(v):\n",
    "    v.sum1 = v.sum2 = 0.\n",
    "    return v    \n",
    "    \n",
    "def PropAccum(v):\n",
    "    v.sum1 += v.val\n",
    "    v.sum2 += Sqr(v.val)\n",
    "    return v    \n",
    "    \n",
    "def PropAvg(v, n):\n",
    "    v.sum1 /= n\n",
    "    v.sum2 = math.sqrt(max(v.sum2 / n - Sqr(v.sum1), 0.)) \n",
    "    return v    \n",
    "    \n",
    "\n",
    "# AccumProps: collects results of the measurements and evaluates means and standard deviation\n",
    "def AccumProps(icode):\n",
    "    \n",
    "    \n",
    "    if icode == 0:\n",
    "        PropZero(totEnergy)\n",
    "        PropZero(kinEnergy)\n",
    "        PropZero(pressure) \n",
    "    if icode == 1:\n",
    "        PropAccum(totEnergy)\n",
    "        PropAccum(kinEnergy)\n",
    "        PropAccum(pressure)    \n",
    "    if icode == 2:\n",
    "        PropAvg(totEnergy, stepAvg)\n",
    "        PropAvg(kinEnergy, stepAvg)\n",
    "        PropAvg(pressure, stepAvg) "
   ]
  },
  {
   "cell_type": "markdown",
   "metadata": {},
   "source": [
    "Before showing you the code for the SingleStep function, let me introduce some useful extra functions for the program output. In Code 11, I propose a first function for plotting the trajectories of the atoms (plotMolCoo), which makes all the plots step by step, and a second function that creates an mp4 video from all the coordinates plot tiles. The two functions have to work together. Also, Code 11 includes GraphOutput, a function for printing properties in a pandas dataframe shape."
   ]
  },
  {
   "cell_type": "code",
   "execution_count": 140,
   "metadata": {},
   "outputs": [],
   "source": [
    "# OUTPUT FUNCTIONS:\n",
    "\n",
    "def plotMolCoo(mol, workdir, n):\n",
    "    \n",
    "    import matplotlib.patches as mpatches\n",
    "    import matplotlib.pyplot as plt\n",
    "\n",
    "    Time = timeNow\n",
    "    Sigma_v = \"{0:.4f}\".format(vSum[0] / nMol)\n",
    "    E = \"{0:.4f}\".format(totEnergy.sum1)\n",
    "    Sigma_E = \"{0:.4f}\".format(totEnergy.sum2)\n",
    "    Ek = \"{0:.4f}\".format(kinEnergy.sum1)\n",
    "    Sigma_Ek = \"{0:.4f}\".format(kinEnergy.sum2)\n",
    "    P_1 = \"{0:.4f}\".format(pressure.sum1)\n",
    "    P_2 = \"{0:.4f}\".format(pressure.sum2)    \n",
    "    \n",
    "    \n",
    "    %matplotlib inline\n",
    "    \n",
    "    TileName = (workdir+'coo/'+str(n)+'.png')\n",
    "\n",
    "    x = []\n",
    "    y = []\n",
    "    \n",
    "    for n in range(len(mol)):\n",
    "        x.append(mol[n].r[0])\n",
    "        y.append(mol[n].r[1])\n",
    "        \n",
    "    mark_1 = int(len(mol)/2 + len(mol)/8)\n",
    "    mark_2 = int(len(mol)/2 + len(mol)/8 + 1)\n",
    "    \n",
    "    plt.plot(x, y, 'o', color='blue')\n",
    "    plt.plot(x[mark_1], y[mark_1], 'o', color='red')\n",
    "    plt.plot(x[mark_2], y[mark_2], 'o', color='cyan')  \n",
    "    \n",
    "\n",
    "    plt.title('timestep:'+\"{0:.4f}\".format(timeNow)+'; '+\\\n",
    "              '$\\Sigma v$:'+Sigma_v+'; '+\\\n",
    "              'E:'+E+'; '+\\\n",
    "              '$\\sigma E$:'+Sigma_E+';\\n'+\\\n",
    "              'Ek:'+Ek+'; ' +\\\n",
    "              '$\\sigma Ek$:'+Sigma_Ek+'; '+\\\n",
    "              'P.sum1:'+P_1+'; '+\\\n",
    "              'P.sum2:'+P_2+'; ', loc='left')\n",
    "    \n",
    "    #plt.rcParams[\"figure.figsize\"] = (200,3)\n",
    "    plt.savefig(TileName, dpi=100)\n",
    "    \n",
    "    \n",
    "def makeMov():\n",
    "    # For more information about the use of the glob package with Python, and for the convertion from \n",
    "    # gif to mp4 video formats see:    \n",
    "    #https://pythonprogramming.altervista.org/png-to-gif/\n",
    "    #https://stackoverflow.com/questions/6773584/how-is-pythons-glob-glob-ordered\n",
    "    #https://www.programiz.com/python-programming/datetime/current-time\n",
    "    #https://stackoverflow.com/questions/40726502/python-convert-gif-to-videomp4\n",
    "    \n",
    "    \n",
    "    t = time.localtime()\n",
    "    current_time = time.strftime(\"%D:%H:%M:%S\", t)\n",
    "    current_time = current_time.replace('/','-')\n",
    "\n",
    "\n",
    "    # Create the frames\n",
    "    frames = []\n",
    "    imgs = sorted(glob.glob('coo/*.png'), key=os.path.getmtime)\n",
    "    for i in imgs:\n",
    "        temp = Image.open(i)\n",
    "        keep = temp.copy()\n",
    "        frames.append(keep)\n",
    "        temp.close()\n",
    "    for i in imgs:\n",
    "        os.remove(i)        \n",
    "\n",
    "    # Save into a GIF file that loops forever\n",
    "    frames[0].save('coo/coordinates.gif', format='GIF',\n",
    "                   append_images=frames[1:],\n",
    "                   save_all=True,\n",
    "                   duration=30, loop=0)\n",
    "\n",
    "\n",
    "    clip = mp.VideoFileClip(\"coo/coordinates.gif\")\n",
    "    clip.write_videofile(\"coo/\"+\"coordinates_\"+current_time+\".mp4\")\n",
    "    os.remove(\"coo/coordinates.gif\")\n",
    "\n",
    "\n",
    "\n",
    "def PrintSummary():\n",
    "\n",
    "    print(stepCount, \\\n",
    "          \"{0:.4f}\".format(timeNow), \\\n",
    "          \"{0:.4f}\".format(vSum[0] / nMol) ,\\\n",
    "          \"{0:.4f}\".format(totEnergy.sum1),\\\n",
    "          \"{0:.4f}\".format(totEnergy.sum2), \\\n",
    "          \"{0:.4f}\".format(kinEnergy.sum1), \\\n",
    "          \"{0:.4f}\".format(kinEnergy.sum2),\\\n",
    "          \"{0:.4f}\".format(pressure.sum1),\\\n",
    "          \"{0:.4f}\".format(pressure.sum2))\n",
    "    \n",
    "    return (stepCount, \\\n",
    "          timeNow, \\\n",
    "          (vSum[0] / nMol) ,\\\n",
    "          totEnergy.sum1,\\\n",
    "          totEnergy.sum2, \\\n",
    "          kinEnergy.sum1, \\\n",
    "          kinEnergy.sum2,\\\n",
    "          pressure.sum1,\\\n",
    "          pressure.sum2)    \n",
    "\n",
    "\n",
    "def GraphOutput():\n",
    "\n",
    "    ax = \\\n",
    "    df_systemParams.plot(x=\"timestep\", y='$\\Sigma v$', kind=\"line\")\n",
    "    df_systemParams.plot(x=\"timestep\", y='E', kind=\"line\", ax=ax, color=\"C1\")\n",
    "    df_systemParams.plot(x=\"timestep\", y='$\\sigma E$', kind=\"line\", ax=ax, color=\"C2\")\n",
    "    df_systemParams.plot(x=\"timestep\",  y='Ek', kind=\"line\", ax=ax, color=\"C3\")\n",
    "    df_systemParams.plot(x=\"timestep\", y='$\\sigma Ek$', kind=\"line\", ax=ax, color=\"C4\")\n",
    "    df_systemParams.plot(x=\"timestep\", y='P_1', kind=\"line\", ax=ax, color=\"C9\")\n",
    "    df_systemParams.plot(x=\"timestep\", y='P_2', kind=\"line\", ax=ax, color=\"C9\")\n",
    "\n",
    "    plt.show()\n",
    "    #plt.savefig('plot.jpg', dpi=300)"
   ]
  },
  {
   "cell_type": "markdown",
   "metadata": {},
   "source": [
    "Here, the SingleStep function: the real gear of the whole algorithm"
   ]
  },
  {
   "cell_type": "code",
   "execution_count": 141,
   "metadata": {},
   "outputs": [],
   "source": [
    "# HANDLING FUNCTION (SingleStep())\n",
    "'''\n",
    "SingleStep: Is the function that handles the processing for a single timestep, including: \n",
    "1) the force evaluation\n",
    "2) integration of the equation of motion, \n",
    "3) adjustments required by periodic boundaries, and\n",
    "4) property measurements\n",
    "'''\n",
    "def SingleStep():\n",
    "    \n",
    "    global stepCount #  timestep counter\n",
    "    global timeNow    \n",
    "\n",
    "    stepCount +=1\n",
    "    timeNow = stepCount * deltaT\n",
    "    LeapfrogStep(1)\n",
    "    ApplyBoundaryCond()\n",
    "    ComputeForces() # 1) The force evaluation\n",
    "    LeapfrogStep(2) # 2) Integration of coordinates and velocities\n",
    "    EvalProps()\n",
    "    AccumProps(1) # Accumulate properties\n",
    "\n",
    "    if (stepCount % stepAvg == 0):\n",
    "        AccumProps(2) # Calculate averages\n",
    "        systemParams.append(PrintSummary())\n",
    "        AccumProps(0) # Set to zero all the properties."
   ]
  },
  {
   "cell_type": "markdown",
   "metadata": {},
   "source": [
    "Finally, in Code 13, the Main loop."
   ]
  },
  {
   "cell_type": "code",
   "execution_count": 142,
   "metadata": {},
   "outputs": [
    {
     "name": "stdout",
     "output_type": "stream",
     "text": [
      "100 0.5000 0.0000 99.9666 0.5009 98.9513 0.4342 5.1163 0.1212\n",
      "200 1.0000 0.0000 102.1444 1.4220 100.5642 1.1908 5.2869 0.1540\n",
      "300 1.5000 0.0000 114.5476 14.0613 112.7625 13.7277 5.9136 0.7445\n",
      "400 2.0000 -0.0261 33054026482401468719453700096.0000 174886985691408194708401291264.0000 33054026482401253215174656000.0000 174886985691407948417796669440.0000 1652701324120062935636639744.0000 8744349284570396321378205696.0000\n",
      "500 2.5000 0.0152 1044978027784952873875230687232.0000 22128666524436879347862732800.0000 1044978027784952873875230687232.0000 22128666524436879347862732800.0000 52248901389247562769705730048.0000 1106433326225043546229964800.0000\n"
     ]
    },
    {
     "name": "stderr",
     "output_type": "stream",
     "text": [
      "t:   6%|▋         | 32/500 [00:00<00:01, 319.28it/s, now=None]"
     ]
    },
    {
     "name": "stdout",
     "output_type": "stream",
     "text": [
      "Moviepy - Building video coo/coordinates_01-29-21:20:37:24.mp4.\n",
      "Moviepy - Writing video coo/coordinates_01-29-21:20:37:24.mp4\n",
      "\n"
     ]
    },
    {
     "name": "stderr",
     "output_type": "stream",
     "text": [
      "                                                               \r"
     ]
    },
    {
     "name": "stdout",
     "output_type": "stream",
     "text": [
      "Moviepy - Done !\n",
      "Moviepy - video ready coo/coordinates_01-29-21:20:37:24.mp4\n"
     ]
    },
    {
     "data": {
      "image/png": "[encoded data removed]",
      "text/plain": [
       "<Figure size 432x288 with 1 Axes>"
      ]
     },
     "metadata": {
      "needs_background": "light"
     },
     "output_type": "display_data"
    },
    {
     "data": {
      "image/png": "[encoded data removed]",
      "text/plain": [
       "<Figure size 432x288 with 1 Axes>"
      ]
     },
     "metadata": {
      "needs_background": "light"
     },
     "output_type": "display_data"
    }
   ],
   "source": [
    "# 2D SOFT-DISK SIMULATION: THE MAIN LOOP\n",
    "\n",
    "# Import libraries for system operations\n",
    "import os.path\n",
    "from os import path\n",
    "import shutil\n",
    "\n",
    "# PARAMETERS\n",
    "mov = 1 # set mov=1 if you want make a video\n",
    "\n",
    "# Set a working directory for all the png and videos\n",
    "workdir = str(os.getcwd()+'/')\n",
    "\n",
    "# If the /coo directory doesn't exist make it, else remove /coo (and its contents) and \n",
    "# create a new /coo directory.\n",
    "if path.exists(str(workdir+'coo'))==False:\n",
    "    os.makedirs(str(workdir+'coo'))\n",
    "else:\n",
    "    shutil.rmtree(str(workdir+'coo'))\n",
    "    os.makedirs(str(workdir+'coo'))\n",
    "\n",
    "# Load the input parameter file\n",
    "df_params = pd.read_csv('Rap_2_LJP.in', sep='\\t', header=None, names=['parameter', 'value'])\n",
    "\n",
    "NDIM = 2 # Two-Dimension setting\n",
    "vSum = np.asarray([0.0, 0.0]) # velocity sum\n",
    "kinEnergy =Prop(0.0, 0.0, 0.0) #Ek (and average)\n",
    "totEnergy =Prop(0.0, 0.0, 0.0) #E (and average)\n",
    "pressure  =Prop(0.0, 0.0, 0.0) #P (and average) \n",
    "\n",
    "systemParams = []\n",
    "\n",
    "IADD = 453806245\n",
    "IMUL = 314159269\n",
    "MASK = 2147483647\n",
    "SCALE = 0.4656612873e-9\n",
    "randSeedP = 17\n",
    "\n",
    "deltaT = float(df_params.values[0][1])\n",
    "density = float(df_params.values[1][1])\n",
    "\n",
    "initUcell = np.asarray([0.0, 0.0]) # initialize cell\n",
    "initUcell[0] = int(df_params.values[2][1])\n",
    "initUcell[1] = int(df_params.values[3][1])\n",
    "\n",
    "stepAvg = int(df_params.values[4][1])\n",
    "stepEquil = float(df_params.values[5][1])\n",
    "stepLimit = float(df_params.values[6][1])\n",
    "temperature = float(df_params.values[7][1])\n",
    "float(df_params.values[7][1])\n",
    "\n",
    "#Define an array of Mol\n",
    "mol = [Mol(np.asarray([0.0, 0.0]), \\\n",
    "           np.asarray([0.0, 0.0]), \\\n",
    "           np.asarray([0.0, 0.0])) for i in range(int(initUcell[0]*initUcell[1]))]\n",
    "\n",
    "\n",
    "# Define the number of molecules\n",
    "global nMol\n",
    "nMol = len(mol)\n",
    "\n",
    "# LJP parameters:\n",
    "epsilon =  1\n",
    "sigma = 1\n",
    "\n",
    "\n",
    "# START THE MAIN LOOP\n",
    "SetParams()\n",
    "SetupJob()\n",
    "moreCycles = 1\n",
    "\n",
    "n = 0\n",
    "while moreCycles:\n",
    "    SingleStep()\n",
    "    if mov==1:\n",
    "        plotMolCoo(mol, workdir, n) # Make a graph of the coordinates\n",
    "    n += 1\n",
    "    if stepCount >= stepLimit:\n",
    "        moreCycles = 0\n",
    "        \n",
    "\n",
    "columns = ['timestep','timeNow', '$\\Sigma v$', 'E', '$\\sigma E$', 'Ek', '$\\sigma Ek$', 'P_1', 'P_2']\n",
    "df_systemParams = pd.DataFrame(systemParams, columns=columns)        \n",
    "\n",
    "# Make a video\n",
    "if mov==1:\n",
    "    makeMov()\n",
    "\n",
    "GraphOutput()"
   ]
  },
  {
   "cell_type": "code",
   "execution_count": null,
   "metadata": {},
   "outputs": [],
   "source": []
  }
 ],
 "metadata": {
  "kernelspec": {
   "display_name": "Python 3",
   "language": "python",
   "name": "python3"
  },
  "language_info": {
   "codemirror_mode": {
    "name": "ipython",
    "version": 3
   },
   "file_extension": ".py",
   "mimetype": "text/x-python",
   "name": "python",
   "nbconvert_exporter": "python",
   "pygments_lexer": "ipython3",
   "version": "3.7.6"
  }
 },
 "nbformat": 4,
 "nbformat_minor": 4
}
